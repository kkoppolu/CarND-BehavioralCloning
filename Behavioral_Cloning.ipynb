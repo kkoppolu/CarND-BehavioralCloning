{
 "cells": [
  {
   "cell_type": "markdown",
   "metadata": {},
   "source": [
    "# Load Images and Measurements"
   ]
  },
  {
   "cell_type": "code",
   "execution_count": 1,
   "metadata": {},
   "outputs": [
    {
     "name": "stdout",
     "output_type": "stream",
     "text": [
      "Number of images: 3000\n"
     ]
    }
   ],
   "source": [
    "import csv\n",
    "import matplotlib.pyplot as plt\n",
    "from os.path import isfile\n",
    "import cv2\n",
    "import numpy as np\n",
    "%matplotlib inline\n",
    "\n",
    "log_dirs = ('Simulator_Images', 'Simulator_Images_2')\n",
    "img_dirs = [\"/\".join([log_dir, \"IMG\"]) for log_dir in log_dirs]\n",
    "log_files = [\"/\".join([log_dir, \"driving_log.csv\"]) for log_dir in log_dirs]\n",
    "\n",
    "def file_exists(file_name):\n",
    "    for base_path in img_dirs:\n",
    "        full_name = \"/\".join([\".\", base_path, file_name])\n",
    "        if isfile(full_name):\n",
    "            return (True, full_name)\n",
    "        \n",
    "    return (False, None)\n",
    "\n",
    "\n",
    "center_image_names = []\n",
    "center_image_measurements = []\n",
    "\n",
    "thres = 1\n",
    "for log_file in log_files:\n",
    "    with open(log_file, 'r') as csv_file:\n",
    "        filereader = csv.reader(csv_file)\n",
    "        for row in filereader:\n",
    "            file_name = row[0].split('\\\\')[-1]\n",
    "            \n",
    "            is_present, full_name = file_exists(file_name)\n",
    "            if is_present:\n",
    "                center_image_names.append(full_name)\n",
    "                measurement = float(row[-1])\n",
    "                center_image_measurements.append(measurement)\n",
    "\n",
    "                thres = thres + 1\n",
    "                \n",
    "            if thres > 3000:\n",
    "                break\n",
    "\n",
    "    if thres > 3000:\n",
    "        break\n",
    "\n",
    "print (\"Number of images: {}\".format(len(center_image_names)))"
   ]
  },
  {
   "cell_type": "code",
   "execution_count": 2,
   "metadata": {},
   "outputs": [
    {
     "name": "stdout",
     "output_type": "stream",
     "text": [
      "Image shape is (160, 320, 3)\n"
     ]
    }
   ],
   "source": [
    "ex_img = cv2.imread(center_image_names[0])\n",
    "num_rows = len(ex_img[:, 0, 0])\n",
    "#ex_img = ex_img[crop_top_rows:(num_rows - crop_bottom_rows), 0:320]\n",
    "\n",
    "image_shape = np.array(ex_img).shape[0:]\n",
    "print (\"Image shape is {}\".format(image_shape))"
   ]
  },
  {
   "cell_type": "code",
   "execution_count": 3,
   "metadata": {
    "collapsed": true
   },
   "outputs": [],
   "source": [
    "from sklearn.model_selection import train_test_split\n",
    "\n",
    "train_image_samples, validation_image_samples, train_angle_samples, validation_angle_samples = train_test_split(\n",
    "     center_image_names, center_image_measurements, test_size=0.33, random_state=42)"
   ]
  },
  {
   "cell_type": "code",
   "execution_count": 4,
   "metadata": {
    "collapsed": true
   },
   "outputs": [],
   "source": [
    "from sklearn.utils import shuffle\n",
    "import numpy as np\n",
    "\n",
    "def sample_generator(samples, batch_size):\n",
    "    num_samples = len(list(samples))\n",
    "    \n",
    "    while 1:\n",
    "        shuffle(samples)\n",
    "        for i in range(0, num_samples, batch_size):\n",
    "            batch_samples = samples[i : i + batch_size]\n",
    "            \n",
    "            images = []\n",
    "            angles = []\n",
    "            for sample in batch_samples:\n",
    "                center_image = cv2.imread(sample[0])\n",
    "                images.append(center_image)\n",
    "                angles.append(sample[1])\n",
    "        \n",
    "            image_set = np.array(images, dtype=np.float32)\n",
    "            angle_set = np.array(angles, dtype=np.float32)\n",
    "            yield shuffle(image_set, angle_set)"
   ]
  },
  {
   "cell_type": "code",
   "execution_count": 5,
   "metadata": {
    "collapsed": true
   },
   "outputs": [],
   "source": [
    "batch_size=32\n",
    "train_data = list(zip(train_image_samples, train_angle_samples))\n",
    "val_data = list(zip(validation_image_samples, validation_angle_samples))\n",
    "train_generator = sample_generator(train_data, batch_size = batch_size)\n",
    "validation_generator = sample_generator(val_data, batch_size = batch_size)"
   ]
  },
  {
   "cell_type": "code",
   "execution_count": 6,
   "metadata": {
    "collapsed": true
   },
   "outputs": [],
   "source": [
    "### Test generator\n",
    "i = 0\n",
    "for entry in train_generator:\n",
    "    #print (entry)\n",
    "    i = i + 1\n",
    "    if i > 0:\n",
    "        break"
   ]
  },
  {
   "cell_type": "markdown",
   "metadata": {},
   "source": [
    "# Model Architecture"
   ]
  },
  {
   "cell_type": "code",
   "execution_count": 7,
   "metadata": {},
   "outputs": [
    {
     "name": "stderr",
     "output_type": "stream",
     "text": [
      "Using TensorFlow backend.\n"
     ]
    },
    {
     "name": "stdout",
     "output_type": "stream",
     "text": [
      "(160, 320, 3)\n",
      "Epoch 1/7\n",
      "4s - loss: 62.9971 - acc: 0.0000e+00 - precision: 1.1721 - recall: 0.9906 - val_loss: 7.4285 - val_acc: 0.0000e+00 - val_precision: 0.9990 - val_recall: 1.0010\n",
      "Epoch 2/7\n",
      "3s - loss: 5.2365 - acc: 0.0000e+00 - precision: 0.9970 - recall: 1.0005 - val_loss: 4.4726 - val_acc: 0.0000e+00 - val_precision: 0.9980 - val_recall: 1.0000\n",
      "Epoch 3/7\n",
      "3s - loss: 3.0307 - acc: 0.0000e+00 - precision: 0.9970 - recall: 1.0000 - val_loss: 3.7715 - val_acc: 0.0000e+00 - val_precision: 0.9980 - val_recall: 1.0000\n",
      "Epoch 4/7\n",
      "3s - loss: 2.1492 - acc: 0.0000e+00 - precision: 0.9975 - recall: 1.0000 - val_loss: 3.4021 - val_acc: 0.0000e+00 - val_precision: 0.9980 - val_recall: 1.0000\n",
      "Epoch 5/7\n",
      "3s - loss: 1.6002 - acc: 0.0000e+00 - precision: 0.9975 - recall: 1.0000 - val_loss: 3.1723 - val_acc: 0.0000e+00 - val_precision: 0.9990 - val_recall: 1.0000\n",
      "Epoch 6/7\n",
      "3s - loss: 1.2289 - acc: 0.0000e+00 - precision: 0.9980 - recall: 1.0000 - val_loss: 3.0414 - val_acc: 0.0000e+00 - val_precision: 1.0000 - val_recall: 1.0000\n",
      "Epoch 7/7\n",
      "3s - loss: 0.9641 - acc: 0.0000e+00 - precision: 0.9985 - recall: 1.0000 - val_loss: 2.9623 - val_acc: 0.0000e+00 - val_precision: 1.0000 - val_recall: 1.0000\n",
      "dict_keys(['val_recall', 'acc', 'val_loss', 'val_acc', 'loss', 'recall', 'val_precision', 'precision'])\n"
     ]
    },
    {
     "data": {
      "image/png": "[encoded data removed]",
      "text/plain": [
       "<matplotlib.figure.Figure at 0x7fe01b68e3c8>"
      ]
     },
     "metadata": {},
     "output_type": "display_data"
    }
   ],
   "source": [
    "from keras.models import Sequential\n",
    "from keras.optimizers import Adam\n",
    "from keras.layers.core import Flatten, Dense, Lambda\n",
    "from keras.layers.convolutional import Cropping2D\n",
    "\n",
    "train_sample_size = len(train_image_samples)\n",
    "val_sample_size = len(validation_image_samples)\n",
    "print (image_shape)\n",
    "\n",
    "Max_Pixel_Value = 255.0\n",
    "Pixel_Mean = 0.5\n",
    "\n",
    "model = Sequential()\n",
    "model.add(Cropping2D(cropping=((50, 20), (0, 0)), input_shape=image_shape))\n",
    "model.add(Lambda(lambda x: (x / Max_Pixel_Value) - Pixel_Mean ))\n",
    "model.add(Flatten())\n",
    "model.add(Dense(1))\n",
    "\n",
    "opt = Adam(lr=0.001, beta_1=0.9, beta_2=0.999, epsilon=1e-08, decay=0.0)\n",
    "model.compile(loss='mse', optimizer=opt, metrics=['accuracy', 'precision', 'recall'])\n",
    "hist = model.fit_generator(train_generator, samples_per_epoch = train_sample_size, nb_epoch=7, verbose=2,\n",
    "                           validation_data=validation_generator, nb_val_samples = val_sample_size)\n",
    "print (hist.history.keys())\n",
    "\n",
    "### plt the training and validation loss for each epoch\n",
    "plt.plot(hist.history['loss'])\n",
    "plt.plot(hist.history['val_loss'])\n",
    "plt.title(\"MSE Loss\")\n",
    "plt.ylabel('MSE')\n",
    "plt.xlabel('Epoch')\n",
    "plt.legend(['training', 'validation'], loc = 'upper right')\n",
    "plt.show()\n",
    "\n",
    "model.save('model.h5')"
   ]
  },
  {
   "cell_type": "code",
   "execution_count": null,
   "metadata": {
    "collapsed": true
   },
   "outputs": [],
   "source": []
  }
 ],
 "metadata": {
  "kernelspec": {
   "display_name": "Python 3",
   "language": "python",
   "name": "python3"
  },
  "language_info": {
   "codemirror_mode": {
    "name": "ipython",
    "version": 3
   },
   "file_extension": ".py",
   "mimetype": "text/x-python",
   "name": "python",
   "nbconvert_exporter": "python",
   "pygments_lexer": "ipython3",
   "version": "3.5.2"
  },
  "widgets": {
   "state": {},
   "version": "1.1.2"
  }
 },
 "nbformat": 4,
 "nbformat_minor": 2
}
