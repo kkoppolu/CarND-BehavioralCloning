{
 "cells": [
  {
   "cell_type": "markdown",
   "metadata": {},
   "source": [
    "# Load Images and Measurements"
   ]
  },
  {
   "cell_type": "code",
   "execution_count": 1,
   "metadata": {
    "collapsed": true
   },
   "outputs": [],
   "source": [
    "import csv\n",
    "from os.path import isfile\n",
    "import cv2\n",
    "import numpy as np\n",
    "from sklearn.model_selection import train_test_split\n",
    "\n",
    "def file_exists(file_name, img_dirs):\n",
    "    for base_path in img_dirs:\n",
    "        full_name = \"/\".join([\".\", base_path, file_name])\n",
    "        if isfile(full_name):\n",
    "            return (True, full_name)\n",
    "        \n",
    "    return (False, None)\n",
    "\n",
    "\n",
    "def load_log_files():\n",
    "    log_dirs = ('Simulator_Images', 'Simulator_Images_2')\n",
    "    img_dirs = [\"/\".join([log_dir, \"IMG\"]) for log_dir in log_dirs]\n",
    "    log_files = [\"/\".join([log_dir, \"driving_log.csv\"]) for log_dir in log_dirs]\n",
    "    \n",
    "    center_image_names = []\n",
    "    center_image_measurements = []\n",
    "\n",
    "    thres = 1\n",
    "    for log_file in log_files:\n",
    "        with open(log_file, 'r') as csv_file:\n",
    "            filereader = csv.reader(csv_file)\n",
    "            for row in filereader:\n",
    "                file_name = row[0].split('\\\\')[-1]\n",
    "\n",
    "                is_present, full_name = file_exists(file_name, img_dirs)\n",
    "                if is_present:\n",
    "                    center_image_names.append(full_name)\n",
    "                    measurement = float(row[3])\n",
    "                    center_image_measurements.append(measurement)\n",
    "\n",
    "                    thres = thres + 1\n",
    "\n",
    "                if thres > 4:\n",
    "                    break\n",
    "\n",
    "        if thres > 4:\n",
    "            break\n",
    "\n",
    "    print (\"Number of images: {}\".format(len(center_image_names)))\n",
    "    \n",
    "    return (center_image_names, center_image_measurements)\n",
    "\n",
    "\n",
    "def get_train_validation_data():\n",
    "    center_image_names, center_image_measurements =  load_log_files()\n",
    "    train_image_samples, validation_image_samples, train_angle_samples, validation_angle_samples = train_test_split(\n",
    "         center_image_names, center_image_measurements, test_size=0.33, random_state=42)\n",
    "    return list(zip(train_image_samples, train_angle_samples)), list(zip(validation_image_samples, validation_angle_samples))"
   ]
  },
  {
   "cell_type": "code",
   "execution_count": 2,
   "metadata": {},
   "outputs": [
    {
     "name": "stderr",
     "output_type": "stream",
     "text": [
      "Using TensorFlow backend.\n"
     ]
    }
   ],
   "source": [
    "from keras.applications.imagenet_utils import preprocess_input\n",
    "from sklearn.utils import shuffle\n",
    "import numpy as np\n",
    "import cv2\n",
    "\n",
    "def resize_image(img, target_dim):\n",
    "    num_rows = len(img[:, 0, 0])\n",
    "    crop_top_rows = 55\n",
    "    crop_bottom_rows = 20\n",
    "    img = img[crop_top_rows:(num_rows - crop_bottom_rows), :, :]\n",
    "    img = cv2.resize(img, (target_dim, target_dim))\n",
    "    return img\n",
    "    \n",
    "def read_image(image_path, target_dim):\n",
    "    img = resize_image(cv2.imread(image_path), target_dim)\n",
    "    return img\n",
    "\n",
    "def sample_generator(samples, batch_size, target_dim=224, augment_data=False):\n",
    "    num_samples = len(list(samples))\n",
    "\n",
    "    while 1:\n",
    "        shuffle(samples)\n",
    "        for i in range(0, num_samples, batch_size):\n",
    "            batch_samples = samples[i : i + batch_size]\n",
    "            \n",
    "            images = []\n",
    "            angles = []\n",
    "            for sample in batch_samples:\n",
    "                center_image = read_image(sample[0], target_dim)\n",
    "                images.append(center_image)\n",
    "                angles.append(sample[1])\n",
    "                \n",
    "                if augment_data:\n",
    "                    images.append(cv2.flip(center_image, 1))\n",
    "                    angles.append(-1.0 * sample[1])\n",
    "        \n",
    "            image_set = np.array(images, dtype=np.float32)\n",
    "            image_set = preprocess_input(image_set)\n",
    "            angle_set = np.array(angles, dtype=np.float32)\n",
    "            \n",
    "            yield shuffle(image_set, angle_set)"
   ]
  },
  {
   "cell_type": "code",
   "execution_count": 3,
   "metadata": {
    "collapsed": true
   },
   "outputs": [],
   "source": [
    "#sample_images = []\n",
    "#sample_angles = []\n",
    "\n",
    "#for img_path, angle in zip(center_image_names, center_image_measurements):\n",
    "#    image = read_image(img_path)\n",
    "#    sample_images.append(image)\n",
    "#    sample_angles.append(angle)\n",
    "    \n",
    "#import random\n",
    "#idx = random.randint(0, len(center_image_names))\n",
    "#ex_img = sample_images[idx]\n",
    "\n",
    "#image_shape = np.array(ex_img).shape[0:]\n",
    "#print (\"Image shape is {}\".format(image_shape))\n",
    "#plt.imshow(ex_img)"
   ]
  },
  {
   "cell_type": "markdown",
   "metadata": {},
   "source": [
    "# Model Architecture"
   ]
  },
  {
   "cell_type": "markdown",
   "metadata": {},
   "source": [
    "## VGG 16"
   ]
  },
  {
   "cell_type": "code",
   "execution_count": 4,
   "metadata": {},
   "outputs": [
    {
     "name": "stdout",
     "output_type": "stream",
     "text": [
      "Number of images: 19151\n",
      "Training samples: 25662\n",
      "Validation samples: 25662\n",
      "Epoch 1/7\n",
      " 1080/25662 [>.............................] - ETA: 1346s - loss: 549.1413"
     ]
    },
    {
     "ename": "KeyboardInterrupt",
     "evalue": "",
     "output_type": "error",
     "traceback": [
      "\u001b[0;31m---------------------------------------------------------------------------\u001b[0m",
      "\u001b[0;31mKeyboardInterrupt\u001b[0m                         Traceback (most recent call last)",
      "\u001b[0;32m<ipython-input-4-ddccae80b7ee>\u001b[0m in \u001b[0;36m<module>\u001b[0;34m()\u001b[0m\n\u001b[1;32m     36\u001b[0m \u001b[0mmodel\u001b[0m\u001b[0;34m.\u001b[0m\u001b[0mcompile\u001b[0m\u001b[0;34m(\u001b[0m\u001b[0mloss\u001b[0m\u001b[0;34m=\u001b[0m\u001b[0;34m'mse'\u001b[0m\u001b[0;34m,\u001b[0m \u001b[0moptimizer\u001b[0m\u001b[0;34m=\u001b[0m\u001b[0mopt\u001b[0m\u001b[0;34m)\u001b[0m\u001b[0;34m\u001b[0m\u001b[0m\n\u001b[1;32m     37\u001b[0m hist = model.fit_generator(train_generator, samples_per_epoch = train_sample_size, nb_epoch=7, verbose=1,\n\u001b[0;32m---> 38\u001b[0;31m                            validation_data=validation_generator, nb_val_samples = val_sample_size)\n\u001b[0m\u001b[1;32m     39\u001b[0m \u001b[0;34m\u001b[0m\u001b[0m\n\u001b[1;32m     40\u001b[0m \u001b[0;31m### plt the training and validation loss for each epoch\u001b[0m\u001b[0;34m\u001b[0m\u001b[0;34m\u001b[0m\u001b[0m\n",
      "\u001b[0;32m/home/carnd/anaconda3/envs/carnd-term1/lib/python3.5/site-packages/keras/engine/training.py\u001b[0m in \u001b[0;36mfit_generator\u001b[0;34m(self, generator, samples_per_epoch, nb_epoch, verbose, callbacks, validation_data, nb_val_samples, class_weight, max_q_size, nb_worker, pickle_safe, initial_epoch)\u001b[0m\n\u001b[1;32m   1551\u001b[0m                     outs = self.train_on_batch(x, y,\n\u001b[1;32m   1552\u001b[0m                                                \u001b[0msample_weight\u001b[0m\u001b[0;34m=\u001b[0m\u001b[0msample_weight\u001b[0m\u001b[0;34m,\u001b[0m\u001b[0;34m\u001b[0m\u001b[0m\n\u001b[0;32m-> 1553\u001b[0;31m                                                class_weight=class_weight)\n\u001b[0m\u001b[1;32m   1554\u001b[0m \u001b[0;34m\u001b[0m\u001b[0m\n\u001b[1;32m   1555\u001b[0m                     \u001b[0;32mif\u001b[0m \u001b[0;32mnot\u001b[0m \u001b[0misinstance\u001b[0m\u001b[0;34m(\u001b[0m\u001b[0mouts\u001b[0m\u001b[0;34m,\u001b[0m \u001b[0mlist\u001b[0m\u001b[0;34m)\u001b[0m\u001b[0;34m:\u001b[0m\u001b[0;34m\u001b[0m\u001b[0m\n",
      "\u001b[0;32m/home/carnd/anaconda3/envs/carnd-term1/lib/python3.5/site-packages/keras/engine/training.py\u001b[0m in \u001b[0;36mtrain_on_batch\u001b[0;34m(self, x, y, sample_weight, class_weight)\u001b[0m\n\u001b[1;32m   1314\u001b[0m             \u001b[0mins\u001b[0m \u001b[0;34m=\u001b[0m \u001b[0mx\u001b[0m \u001b[0;34m+\u001b[0m \u001b[0my\u001b[0m \u001b[0;34m+\u001b[0m \u001b[0msample_weights\u001b[0m\u001b[0;34m\u001b[0m\u001b[0m\n\u001b[1;32m   1315\u001b[0m         \u001b[0mself\u001b[0m\u001b[0;34m.\u001b[0m\u001b[0m_make_train_function\u001b[0m\u001b[0;34m(\u001b[0m\u001b[0;34m)\u001b[0m\u001b[0;34m\u001b[0m\u001b[0m\n\u001b[0;32m-> 1316\u001b[0;31m         \u001b[0moutputs\u001b[0m \u001b[0;34m=\u001b[0m \u001b[0mself\u001b[0m\u001b[0;34m.\u001b[0m\u001b[0mtrain_function\u001b[0m\u001b[0;34m(\u001b[0m\u001b[0mins\u001b[0m\u001b[0;34m)\u001b[0m\u001b[0;34m\u001b[0m\u001b[0m\n\u001b[0m\u001b[1;32m   1317\u001b[0m         \u001b[0;32mif\u001b[0m \u001b[0mlen\u001b[0m\u001b[0;34m(\u001b[0m\u001b[0moutputs\u001b[0m\u001b[0;34m)\u001b[0m \u001b[0;34m==\u001b[0m \u001b[0;36m1\u001b[0m\u001b[0;34m:\u001b[0m\u001b[0;34m\u001b[0m\u001b[0m\n\u001b[1;32m   1318\u001b[0m             \u001b[0;32mreturn\u001b[0m \u001b[0moutputs\u001b[0m\u001b[0;34m[\u001b[0m\u001b[0;36m0\u001b[0m\u001b[0;34m]\u001b[0m\u001b[0;34m\u001b[0m\u001b[0m\n",
      "\u001b[0;32m/home/carnd/anaconda3/envs/carnd-term1/lib/python3.5/site-packages/keras/backend/tensorflow_backend.py\u001b[0m in \u001b[0;36m__call__\u001b[0;34m(self, inputs)\u001b[0m\n\u001b[1;32m   1898\u001b[0m         \u001b[0msession\u001b[0m \u001b[0;34m=\u001b[0m \u001b[0mget_session\u001b[0m\u001b[0;34m(\u001b[0m\u001b[0;34m)\u001b[0m\u001b[0;34m\u001b[0m\u001b[0m\n\u001b[1;32m   1899\u001b[0m         updated = session.run(self.outputs + [self.updates_op],\n\u001b[0;32m-> 1900\u001b[0;31m                               feed_dict=feed_dict)\n\u001b[0m\u001b[1;32m   1901\u001b[0m         \u001b[0;32mreturn\u001b[0m \u001b[0mupdated\u001b[0m\u001b[0;34m[\u001b[0m\u001b[0;34m:\u001b[0m\u001b[0mlen\u001b[0m\u001b[0;34m(\u001b[0m\u001b[0mself\u001b[0m\u001b[0;34m.\u001b[0m\u001b[0moutputs\u001b[0m\u001b[0;34m)\u001b[0m\u001b[0;34m]\u001b[0m\u001b[0;34m\u001b[0m\u001b[0m\n\u001b[1;32m   1902\u001b[0m \u001b[0;34m\u001b[0m\u001b[0m\n",
      "\u001b[0;32m/home/carnd/anaconda3/envs/carnd-term1/lib/python3.5/site-packages/tensorflow/python/client/session.py\u001b[0m in \u001b[0;36mrun\u001b[0;34m(self, fetches, feed_dict, options, run_metadata)\u001b[0m\n\u001b[1;32m    764\u001b[0m     \u001b[0;32mtry\u001b[0m\u001b[0;34m:\u001b[0m\u001b[0;34m\u001b[0m\u001b[0m\n\u001b[1;32m    765\u001b[0m       result = self._run(None, fetches, feed_dict, options_ptr,\n\u001b[0;32m--> 766\u001b[0;31m                          run_metadata_ptr)\n\u001b[0m\u001b[1;32m    767\u001b[0m       \u001b[0;32mif\u001b[0m \u001b[0mrun_metadata\u001b[0m\u001b[0;34m:\u001b[0m\u001b[0;34m\u001b[0m\u001b[0m\n\u001b[1;32m    768\u001b[0m         \u001b[0mproto_data\u001b[0m \u001b[0;34m=\u001b[0m \u001b[0mtf_session\u001b[0m\u001b[0;34m.\u001b[0m\u001b[0mTF_GetBuffer\u001b[0m\u001b[0;34m(\u001b[0m\u001b[0mrun_metadata_ptr\u001b[0m\u001b[0;34m)\u001b[0m\u001b[0;34m\u001b[0m\u001b[0m\n",
      "\u001b[0;32m/home/carnd/anaconda3/envs/carnd-term1/lib/python3.5/site-packages/tensorflow/python/client/session.py\u001b[0m in \u001b[0;36m_run\u001b[0;34m(self, handle, fetches, feed_dict, options, run_metadata)\u001b[0m\n\u001b[1;32m    962\u001b[0m     \u001b[0;32mif\u001b[0m \u001b[0mfinal_fetches\u001b[0m \u001b[0;32mor\u001b[0m \u001b[0mfinal_targets\u001b[0m\u001b[0;34m:\u001b[0m\u001b[0;34m\u001b[0m\u001b[0m\n\u001b[1;32m    963\u001b[0m       results = self._do_run(handle, final_targets, final_fetches,\n\u001b[0;32m--> 964\u001b[0;31m                              feed_dict_string, options, run_metadata)\n\u001b[0m\u001b[1;32m    965\u001b[0m     \u001b[0;32melse\u001b[0m\u001b[0;34m:\u001b[0m\u001b[0;34m\u001b[0m\u001b[0m\n\u001b[1;32m    966\u001b[0m       \u001b[0mresults\u001b[0m \u001b[0;34m=\u001b[0m \u001b[0;34m[\u001b[0m\u001b[0;34m]\u001b[0m\u001b[0;34m\u001b[0m\u001b[0m\n",
      "\u001b[0;32m/home/carnd/anaconda3/envs/carnd-term1/lib/python3.5/site-packages/tensorflow/python/client/session.py\u001b[0m in \u001b[0;36m_do_run\u001b[0;34m(self, handle, target_list, fetch_list, feed_dict, options, run_metadata)\u001b[0m\n\u001b[1;32m   1012\u001b[0m     \u001b[0;32mif\u001b[0m \u001b[0mhandle\u001b[0m \u001b[0;32mis\u001b[0m \u001b[0;32mNone\u001b[0m\u001b[0;34m:\u001b[0m\u001b[0;34m\u001b[0m\u001b[0m\n\u001b[1;32m   1013\u001b[0m       return self._do_call(_run_fn, self._session, feed_dict, fetch_list,\n\u001b[0;32m-> 1014\u001b[0;31m                            target_list, options, run_metadata)\n\u001b[0m\u001b[1;32m   1015\u001b[0m     \u001b[0;32melse\u001b[0m\u001b[0;34m:\u001b[0m\u001b[0;34m\u001b[0m\u001b[0m\n\u001b[1;32m   1016\u001b[0m       return self._do_call(_prun_fn, self._session, handle, feed_dict,\n",
      "\u001b[0;32m/home/carnd/anaconda3/envs/carnd-term1/lib/python3.5/site-packages/tensorflow/python/client/session.py\u001b[0m in \u001b[0;36m_do_call\u001b[0;34m(self, fn, *args)\u001b[0m\n\u001b[1;32m   1019\u001b[0m   \u001b[0;32mdef\u001b[0m \u001b[0m_do_call\u001b[0m\u001b[0;34m(\u001b[0m\u001b[0mself\u001b[0m\u001b[0;34m,\u001b[0m \u001b[0mfn\u001b[0m\u001b[0;34m,\u001b[0m \u001b[0;34m*\u001b[0m\u001b[0margs\u001b[0m\u001b[0;34m)\u001b[0m\u001b[0;34m:\u001b[0m\u001b[0;34m\u001b[0m\u001b[0m\n\u001b[1;32m   1020\u001b[0m     \u001b[0;32mtry\u001b[0m\u001b[0;34m:\u001b[0m\u001b[0;34m\u001b[0m\u001b[0m\n\u001b[0;32m-> 1021\u001b[0;31m       \u001b[0;32mreturn\u001b[0m \u001b[0mfn\u001b[0m\u001b[0;34m(\u001b[0m\u001b[0;34m*\u001b[0m\u001b[0margs\u001b[0m\u001b[0;34m)\u001b[0m\u001b[0;34m\u001b[0m\u001b[0m\n\u001b[0m\u001b[1;32m   1022\u001b[0m     \u001b[0;32mexcept\u001b[0m \u001b[0merrors\u001b[0m\u001b[0;34m.\u001b[0m\u001b[0mOpError\u001b[0m \u001b[0;32mas\u001b[0m \u001b[0me\u001b[0m\u001b[0;34m:\u001b[0m\u001b[0;34m\u001b[0m\u001b[0m\n\u001b[1;32m   1023\u001b[0m       \u001b[0mmessage\u001b[0m \u001b[0;34m=\u001b[0m \u001b[0mcompat\u001b[0m\u001b[0;34m.\u001b[0m\u001b[0mas_text\u001b[0m\u001b[0;34m(\u001b[0m\u001b[0me\u001b[0m\u001b[0;34m.\u001b[0m\u001b[0mmessage\u001b[0m\u001b[0;34m)\u001b[0m\u001b[0;34m\u001b[0m\u001b[0m\n",
      "\u001b[0;32m/home/carnd/anaconda3/envs/carnd-term1/lib/python3.5/site-packages/tensorflow/python/client/session.py\u001b[0m in \u001b[0;36m_run_fn\u001b[0;34m(session, feed_dict, fetch_list, target_list, options, run_metadata)\u001b[0m\n\u001b[1;32m   1001\u001b[0m         return tf_session.TF_Run(session, options,\n\u001b[1;32m   1002\u001b[0m                                  \u001b[0mfeed_dict\u001b[0m\u001b[0;34m,\u001b[0m \u001b[0mfetch_list\u001b[0m\u001b[0;34m,\u001b[0m \u001b[0mtarget_list\u001b[0m\u001b[0;34m,\u001b[0m\u001b[0;34m\u001b[0m\u001b[0m\n\u001b[0;32m-> 1003\u001b[0;31m                                  status, run_metadata)\n\u001b[0m\u001b[1;32m   1004\u001b[0m \u001b[0;34m\u001b[0m\u001b[0m\n\u001b[1;32m   1005\u001b[0m     \u001b[0;32mdef\u001b[0m \u001b[0m_prun_fn\u001b[0m\u001b[0;34m(\u001b[0m\u001b[0msession\u001b[0m\u001b[0;34m,\u001b[0m \u001b[0mhandle\u001b[0m\u001b[0;34m,\u001b[0m \u001b[0mfeed_dict\u001b[0m\u001b[0;34m,\u001b[0m \u001b[0mfetch_list\u001b[0m\u001b[0;34m)\u001b[0m\u001b[0;34m:\u001b[0m\u001b[0;34m\u001b[0m\u001b[0m\n",
      "\u001b[0;31mKeyboardInterrupt\u001b[0m: "
     ]
    }
   ],
   "source": [
    "### Reference: https://github.com/fchollet/keras/blob/master/keras/applications/vgg19.py\n",
    "\n",
    "from keras.models import Model\n",
    "from keras.layers import Flatten, Dense\n",
    "from keras.optimizers import Adam\n",
    "from keras.applications.vgg16 import VGG16\n",
    "\n",
    "import matplotlib.pyplot as plt\n",
    "%matplotlib inline\n",
    "\n",
    "base_model = VGG16(weights='imagenet', include_top=True, input_shape=(224, 224, 3))\n",
    "base_model.layers.pop() # predictions\n",
    "base_model.layers.pop() # fc2\n",
    "for layer in base_model.layers:\n",
    "    layer.trainable = False\n",
    "\n",
    "x = base_model.output\n",
    "#x = Flatten(name='custom_flatten')(x)\n",
    "#x = Dense(4096, activation='relu', name='custom_fc1')(x)\n",
    "x = Dense(4096, activation='relu', name='custom_fc2')(x)\n",
    "predictions = Dense(1, activation='relu', name='custom_predictions')(x)\n",
    "\n",
    "model = Model(input=base_model.input, output=predictions)\n",
    "\n",
    "train_data, val_data = get_train_validation_data()\n",
    "train_sample_size = len(train_data) * 2 # horizontal flip\n",
    "val_sample_size = len(val_data)\n",
    "print (\"Training samples: {}\".format(train_sample_size))\n",
    "print (\"Validation samples: {}\".format(train_sample_size))\n",
    "\n",
    "batch_size=4\n",
    "train_generator = sample_generator(train_data, batch_size = batch_size, augment_data=True)\n",
    "validation_generator = sample_generator(val_data, batch_size = batch_size)\n",
    "\n",
    "opt = Adam(lr=0.001, beta_1=0.9, beta_2=0.999, epsilon=1e-08, decay=0.0)\n",
    "model.compile(loss='mse', optimizer=opt)\n",
    "hist = model.fit_generator(train_generator, samples_per_epoch = train_sample_size, nb_epoch=7, verbose=1,\n",
    "                           validation_data=validation_generator, nb_val_samples = val_sample_size)\n",
    "\n",
    "### plt the training and validation loss for each epoch\n",
    "plt.figure(1)\n",
    "loss_plot = plt.subplot(1,1,1)\n",
    "loss_plot.set_title(\"MSE Loss\")\n",
    "loss_plot.plot(hist.history['loss'], label='training')\n",
    "loss_plot.plot(hist.history['val_loss'], label='validation')\n",
    "loss_plot.set_ylabel('MSE')\n",
    "loss_plot.set_xlabel('Epoch')\n",
    "loss_plot.legend(loc = 'upper right')\n",
    "plt.show()\n",
    "\n",
    "model.save('model_vgg_201708071954.h5')"
   ]
  },
  {
   "cell_type": "markdown",
   "metadata": {},
   "source": [
    "## Custom Model"
   ]
  },
  {
   "cell_type": "code",
   "execution_count": 5,
   "metadata": {},
   "outputs": [
    {
     "name": "stdout",
     "output_type": "stream",
     "text": [
      "Number of images: 12\n",
      "Training samples: 8\n",
      "Validation samples: 8\n",
      "Epoch 1/7\n",
      "0s - loss: 103.6295 - acc: 0.0000e+00 - precision: 0.0000e+00 - recall: 0.0000e+00 - val_loss: 176.8303 - val_acc: 0.0000e+00 - val_precision: 0.7500 - val_recall: 5000000.5000\n",
      "Epoch 2/7\n",
      "0s - loss: 78.4884 - acc: 0.0000e+00 - precision: 0.1250 - recall: 0.2500 - val_loss: 86.1851 - val_acc: 0.0000e+00 - val_precision: 0.0000e+00 - val_recall: 0.0000e+00\n",
      "Epoch 3/7\n",
      "0s - loss: 48.8077 - acc: 0.0000e+00 - precision: 0.0000e+00 - recall: 0.0000e+00 - val_loss: 18.4403 - val_acc: 0.0000e+00 - val_precision: 0.7500 - val_recall: 5000000.5000\n",
      "Epoch 4/7\n",
      "0s - loss: 37.7599 - acc: 0.0000e+00 - precision: 0.2500 - recall: 2500000.2500 - val_loss: 1.9001 - val_acc: 0.0000e+00 - val_precision: 0.7500 - val_recall: 5000000.5000\n",
      "Epoch 5/7\n",
      "0s - loss: 18.4109 - acc: 0.0000e+00 - precision: 0.2500 - recall: 0.2500 - val_loss: 17.1925 - val_acc: 0.0000e+00 - val_precision: 0.0000e+00 - val_recall: 0.0000e+00\n",
      "Epoch 6/7\n",
      "0s - loss: 9.1181 - acc: 0.0000e+00 - precision: 0.2500 - recall: 0.2500 - val_loss: 18.5823 - val_acc: 0.0000e+00 - val_precision: 0.7500 - val_recall: 5000000.5000\n",
      "Epoch 7/7\n",
      "0s - loss: 9.0405 - acc: 0.0000e+00 - precision: 0.1250 - recall: 0.2500 - val_loss: 8.2767 - val_acc: 0.0000e+00 - val_precision: 0.0000e+00 - val_recall: 0.0000e+00\n",
      "dict_keys(['val_recall', 'precision', 'acc', 'loss', 'val_acc', 'val_loss', 'recall', 'val_precision'])\n"
     ]
    },
    {
     "data": {
      "image/png": "[encoded data removed]",
      "text/plain": [
       "<matplotlib.figure.Figure at 0x7f7a95582f28>"
      ]
     },
     "metadata": {},
     "output_type": "display_data"
    }
   ],
   "source": [
    "from keras.models import Model\n",
    "from keras.optimizers import Adam\n",
    "from keras.layers import Flatten, Dense, Lambda, Input\n",
    "\n",
    "train_data, val_data = get_train_validation_data()\n",
    "train_sample_size = len(train_data)\n",
    "val_sample_size = len(val_data)\n",
    "print (\"Training samples: {}\".format(train_sample_size))\n",
    "print (\"Validation samples: {}\".format(train_sample_size))\n",
    "\n",
    "batch_size=2\n",
    "train_generator = sample_generator(train_data, batch_size = batch_size)\n",
    "validation_generator = sample_generator(val_data, batch_size = batch_size)\n",
    "\n",
    "inp = Input(shape=(224, 224, 3))\n",
    "Max_Pixel_Value=255.0\n",
    "Pixel_Mean = 0.5\n",
    "x = Lambda(lambda x: (x / Max_Pixel_Value) - Pixel_Mean )(inp)\n",
    "x = Flatten()(x)\n",
    "predictions = Dense(1)(x)\n",
    "model = Model(input=inp, output=predictions)\n",
    "\n",
    "opt = Adam(lr=0.001, beta_1=0.9, beta_2=0.999, epsilon=1e-08, decay=0.0)\n",
    "model.compile(loss='mse', optimizer=opt)\n",
    "hist = model.fit_generator(train_generator, samples_per_epoch = train_sample_size, nb_epoch=7, verbose=2,\n",
    "                           validation_data=validation_generator, nb_val_samples = val_sample_size)\n",
    "model.save('model.h5')"
   ]
  },
  {
   "cell_type": "code",
   "execution_count": null,
   "metadata": {
    "collapsed": true
   },
   "outputs": [],
   "source": []
  }
 ],
 "metadata": {
  "kernelspec": {
   "display_name": "Python 3",
   "language": "python",
   "name": "python3"
  },
  "language_info": {
   "codemirror_mode": {
    "name": "ipython",
    "version": 3
   },
   "file_extension": ".py",
   "mimetype": "text/x-python",
   "name": "python",
   "nbconvert_exporter": "python",
   "pygments_lexer": "ipython3",
   "version": "3.5.2"
  },
  "widgets": {
   "state": {},
   "version": "1.1.2"
  }
 },
 "nbformat": 4,
 "nbformat_minor": 2
}
